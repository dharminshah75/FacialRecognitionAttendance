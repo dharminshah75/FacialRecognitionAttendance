{
 "cells": [
  {
   "cell_type": "code",
   "execution_count": null,
   "metadata": {
    "collapsed": true
   },
   "outputs": [],
   "source": [
    "import face_recognition\n",
    "import os\n",
    "import matplotlib.pyplot as plt\n",
    "import time\n",
    "%matplotlib inline"
   ]
  },
  {
   "cell_type": "code",
   "execution_count": null,
   "metadata": {
    "collapsed": true
   },
   "outputs": [],
   "source": [
    "def or_list(list1,list2):\n",
    "    sum_list = [a + b for a, b in zip(list1, list2)]\n",
    "    return sum_list"
   ]
  },
  {
   "cell_type": "code",
   "execution_count": null,
   "metadata": {
    "collapsed": true
   },
   "outputs": [],
   "source": [
    "#Load known faces\n",
    "names = []\n",
    "known_faces = []\n",
    "length = 0\n",
    "for image in os.listdir('known_faces/'):\n",
    "    known = face_recognition.load_image_file(\"known_faces/\" + image)\n",
    "    known_encoding = face_recognition.face_encodings(known)[0]\n",
    "    known_faces.append(known_encoding)\n",
    "    names.append(image.split('.')[0])\n",
    "    length += 1"
   ]
  },
  {
   "cell_type": "code",
   "execution_count": null,
   "metadata": {
    "collapsed": true
   },
   "outputs": [],
   "source": [
    "#Check which known faces are there in the unknown image\n",
    "result = [False]*length\n",
    "img_test = 'barack.jpg'\n",
    "unknown_picture = face_recognition.load_image_file(\"unknown_faces/\" + img_test)\n",
    "unknown_face_encoding = face_recognition.face_encodings(unknown_picture)\n",
    "for unknown_face in unknown_face_encoding:\n",
    "    result_temp = face_recognition.compare_faces(known_faces, unknown_face)\n",
    "    result = or_list(result,result_temp)"
   ]
  },
  {
   "cell_type": "code",
   "execution_count": null,
   "metadata": {},
   "outputs": [],
   "source": [
    "#print results which are True\n",
    "present = False\n",
    "plt.imshow(unknown_picture)\n",
    "print('Known people present in the photo are :')\n",
    "for i in range(result.__len__()):\n",
    "    if result[i] == True:\n",
    "        present = True\n",
    "        print('Present {}'.format(names[i]))\n",
    "if present==False:\n",
    "    print('No known face found')"
   ]
  },
  {
   "cell_type": "code",
   "execution_count": null,
   "metadata": {
    "collapsed": true
   },
   "outputs": [],
   "source": []
  }
 ],
 "metadata": {
  "kernelspec": {
   "display_name": "Python 3",
   "language": "python",
   "name": "python3"
  },
  "language_info": {
   "codemirror_mode": {
    "name": "ipython",
    "version": 3
   },
   "file_extension": ".py",
   "mimetype": "text/x-python",
   "name": "python",
   "nbconvert_exporter": "python",
   "pygments_lexer": "ipython3",
   "version": "3.6.3"
  }
 },
 "nbformat": 4,
 "nbformat_minor": 2
}
